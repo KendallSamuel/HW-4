{
  "nbformat": 4,
  "nbformat_minor": 0,
  "metadata": {
    "colab": {
      "name": "HW 4.ipynb",
      "provenance": [],
      "authorship_tag": "ABX9TyNX0NubEoxwc6aqMT0yoH97",
      "include_colab_link": true
    },
    "kernelspec": {
      "name": "python3",
      "display_name": "Python 3"
    },
    "language_info": {
      "name": "python"
    }
  },
  "cells": [
    {
      "cell_type": "markdown",
      "metadata": {
        "id": "view-in-github",
        "colab_type": "text"
      },
      "source": [
        "<a href=\"https://colab.research.google.com/gist/KendallSamuel/f344bdf3083c99f99694a2b7e39bcf9a/hw-4.ipynb\" target=\"_parent\"><img src=\"https://colab.research.google.com/assets/colab-badge.svg\" alt=\"Open In Colab\"/></a>"
      ]
    },
    {
      "cell_type": "markdown",
      "source": [
        "#HW 4 - Question 1"
      ],
      "metadata": {
        "id": "xWXiyoVDTdCN"
      }
    },
    {
      "cell_type": "code",
      "source": [
        "item_price = 99\n",
        "amount = 0 \n",
        "discount = 0\n",
        "total_price = 0\n",
        "\n",
        "#ask the user for the numbered ordered\n",
        "amount = int(input(\"How many would you like to purchase?\"))\n",
        "\n",
        "if(amount >= 10 and amount <= 19):\n",
        " discount = .1\n",
        "elif(amount >=20 and amount <=49):\n",
        " discount = .2\n",
        "elif(amount >=50 and amount <=99):\n",
        " discount = .3\n",
        "elif(amount >=100):\n",
        " discount = .4\n",
        "\n",
        "print(f\"The discount is {discount*100}%  \")\n",
        "\n",
        "#calculate and print the total price\n",
        "total_price = amount*item_price*(1-discount)\n",
        "print(f\"The total price is {total_price:,.2f}\")\n",
        "  "
      ],
      "metadata": {
        "colab": {
          "base_uri": "https://localhost:8080/"
        },
        "id": "O6u8PiAIThSi",
        "outputId": "da5a70c7-5c9a-470c-9f37-96d5ecc0e91a"
      },
      "execution_count": 6,
      "outputs": [
        {
          "output_type": "stream",
          "name": "stdout",
          "text": [
            "How many would you like to purchase?34\n",
            "The discount is 20.0%  \n",
            "The total price is 2,692.80\n"
          ]
        }
      ]
    },
    {
      "cell_type": "markdown",
      "source": [
        "#HW 4 - Question 2"
      ],
      "metadata": {
        "id": "D_KvGgqlZkzk"
      }
    },
    {
      "cell_type": "code",
      "source": [
        "#ask the user the weight of the package\n",
        "weight = float(input(\"What is the weight of the package?\"))\n",
        "\n",
        "if(weight <= 2):\n",
        "  price = 1.5\n",
        "elif(weight >= 2 and weight <= 6):\n",
        "  price = 3\n",
        "elif(weight >=6 and weight <= 10):\n",
        "  price = 4\n",
        "elif(weight >= 10):\n",
        "  price = 4.75\n",
        "\n",
        "print(f\"The shipping price is ${price:,.2f} \")\n"
      ],
      "metadata": {
        "colab": {
          "base_uri": "https://localhost:8080/"
        },
        "id": "9Pa3_Bi9XD4D",
        "outputId": "41e04f47-a483-4363-ba7c-53b15b31e6ef"
      },
      "execution_count": 11,
      "outputs": [
        {
          "output_type": "stream",
          "name": "stdout",
          "text": [
            "What is the weight of the package?7\n",
            "The shipping price is $4.00 \n"
          ]
        }
      ]
    }
  ]
}